{
 "cells": [
  {
   "cell_type": "code",
   "execution_count": 1,
   "metadata": {},
   "outputs": [
    {
     "name": "stderr",
     "output_type": "stream",
     "text": [
      "Using TensorFlow backend.\n"
     ]
    }
   ],
   "source": [
    "import numpy as np\n",
    "import gym\n",
    "import random\n",
    "from keras.models import Sequential\n",
    "from keras.layers import Dense, Dropout, Conv2D, MaxPooling2D, Activation, Flatten\n",
    "from keras.optimizers import Adam\n",
    "from collections import deque\n",
    "import numpy as np\n",
    "import time\n",
    "import threading\n",
    "import pickle\n",
    "from sklearn.externals import joblib \n"
   ]
  },
  {
   "cell_type": "code",
   "execution_count": null,
   "metadata": {},
   "outputs": [],
   "source": [
    "env = gym.make(\"CartPole-v0\")"
   ]
  },
  {
   "cell_type": "code",
   "execution_count": 5,
   "metadata": {},
   "outputs": [],
   "source": [
    "class DQNAgent:\n",
    "    \n",
    "    def __init__(self):\n",
    "        self.total_episodes = 1000\n",
    "        self.max_steps = 500\n",
    "        self.gamma = 0.95\n",
    "        self.epsilon = 1.0\n",
    "        self.min_epsilon = 0.01\n",
    "        self.max_epsilon = 1.0\n",
    "        self.decay_rate = 0.005\n",
    "        self.minibatch_size = 100\n",
    "        self.replay_memory_size = 50000\n",
    "        self.min_replay_memory_size = 1000\n",
    "        self.update_rate = 5 #every 5 episodes\n",
    "        self.action_size = 2\n",
    "        self.state_size = 4\n",
    "        self.start_train = False\n",
    "        self.memory = deque(maxlen=self.replay_memory_size)\n",
    "\n",
    "        \n",
    "    def createModel(self):\n",
    "        model = Sequential()\n",
    "        model.add(Dense(24, input_shape=(self.state_size,), activation=\"relu\"))\n",
    "        model.add(Dense(48, activation=\"relu\"))\n",
    "        model.add(Dense(24, activation=\"relu\"))\n",
    "        model.add(Dense(self.action_size, activation=\"linear\"))\n",
    "        model.compile(loss=\"mse\", optimizer=Adam(lr=0.005), metrics=['accuracy'])\n",
    "        return model\n",
    "    \n",
    "    def instantiateModels(self):\n",
    "        self.main_model = self.createModel()\n",
    "        self.target_model = self.createModel()\n",
    "        self.target_model.set_weights(self.main_model.get_weights())\n",
    "        \n",
    "    def train(self):\n",
    "        # if replay memory has atleast 1000 examples, we sample 100 at random and train main network\n",
    "        if len(self.memory) >= self.min_replay_memory_size:\n",
    "            self.start_train = True\n",
    "            mini_batch = random.sample(self.memory, self.minibatch_size)\n",
    "            current_states =  np.array([sample[0] for sample in mini_batch])\n",
    "            current_qs = self.main_model.predict(current_states)\n",
    "            next_states =  np.array([sample[3] for sample in mini_batch])\n",
    "            future_qs = self.target_model.predict(next_states)\n",
    "\n",
    "            X= []\n",
    "            y = []\n",
    "            for index, (state, action, reward, next_state, done) in enumerate(mini_batch):\n",
    "                if not done:\n",
    "                    max_q = reward + self.gamma*np.max(future_qs[index])\n",
    "                else:\n",
    "                    max_q = reward\n",
    "\n",
    "                #update q value looking at optimal future value. Maybe add learning rate in the future?\n",
    "                current_q = current_qs[index]\n",
    "                current_q[action] = max_q\n",
    "\n",
    "                X.append(state)\n",
    "                y.append(current_q)\n",
    "\n",
    "            self.main_model.fit(np.array(X),np.array(y), batch_size=self.minibatch_size, verbose=0, use_multiprocessing=True, shuffle=False, workers=8)\n",
    "        \n",
    "    def predict(self):    \n",
    "        rewards = []\n",
    "        state = env.reset()\n",
    "        start = time.time()\n",
    "        counter = 1\n",
    "        for episode in range(self.total_episodes):\n",
    "            total_reward = 0\n",
    "            for t in range(self.max_steps):\n",
    "                #epsilon-greedy strategy\n",
    "                random_num = random.uniform(0,1)\n",
    "                if random_num > self.epsilon:\n",
    "                    action_value = self.main_model.predict(np.expand_dims(state,axis=0))\n",
    "                    action = np.argmax(action_value)\n",
    "                else:\n",
    "                    action = env.action_space.sample()\n",
    "\n",
    "                next_state, reward, done, _  = env.step(action)\n",
    "\n",
    "                #To improve learning, -5 as reward if the pole crashes, else +1 for every step\n",
    "                if done:\n",
    "                    # if pole crashes, next state is 0's, add total rewards until this point to a list and reset its value.\n",
    "                    reward = -5\n",
    "                    total_reward+=reward\n",
    "                    rewards.append(total_reward)\n",
    "                    total_reward = 0\n",
    "                    next_state=np.zeros(state.shape)\n",
    "                    self.memory.append((state, action, reward, next_state, done))\n",
    "\n",
    "                    #give the pole-cart a little push\n",
    "                    env.reset()\n",
    "                    env.step(env.action_space.sample())\n",
    "\n",
    "                else:\n",
    "                    total_reward+=reward\n",
    "                    self.memory.append((state, action, reward, next_state, done))\n",
    "                    state=next_state\n",
    "                \n",
    "#                 t1 = threading.Thread(name='train', target=agent.train)\n",
    "#                 t1.start()\n",
    "                self.train()\n",
    "            #update counter at end of episode, update target model weights every 10 episodes\n",
    "            if self.start_train:\n",
    "                counter +=1 \n",
    "            if self.start_train and (counter%self.update_rate)==0:\n",
    "                self.target_model.set_weights(self.main_model.get_weights())\n",
    "            if (counter%100)==0:\n",
    "                print(\"Log episode number: \", episode)\n",
    "            #epsilon decay for every episode\n",
    "            self.epsilon = self.min_epsilon + (self.max_epsilon - self.min_epsilon)*np.exp(-self.decay_rate*episode)\n",
    "        end = time.time() \n",
    "        print('total time in seconds: ', end-start)\n",
    "        print(\"rewards over time: \", rewards)"
   ]
  },
  {
   "cell_type": "code",
   "execution_count": null,
   "metadata": {},
   "outputs": [],
   "source": [
    "agent = DQNAgent()\n",
    "agent.instantiateModels()\n",
    "agent.predict()"
   ]
  },
  {
   "cell_type": "code",
   "execution_count": 23,
   "metadata": {},
   "outputs": [
    {
     "data": {
      "text/plain": [
       "['target_modelv1.pkl']"
      ]
     },
     "execution_count": 23,
     "metadata": {},
     "output_type": "execute_result"
    }
   ],
   "source": [
    "# t2 = threading.Thread(name='predict', target=agent.predict)\n",
    "# t2.start()\n",
    "joblib.dump(agent.main_model, 'main_modelv1.pkl') \n",
    "joblib.dump(agent.target_model, 'target_modelv1.pkl') "
   ]
  },
  {
   "cell_type": "code",
   "execution_count": 30,
   "metadata": {},
   "outputs": [],
   "source": [
    "main_model = joblib.load('main_modelv1.pkl')  \n",
    "target_model = joblib.load('target_modelv1.pkl')"
   ]
  },
  {
   "cell_type": "code",
   "execution_count": 31,
   "metadata": {},
   "outputs": [
    {
     "name": "stderr",
     "output_type": "stream",
     "text": [
      "c:\\users\\ani\\gym\\gym\\envs\\registration.py:14: PkgResourcesDeprecationWarning: Parameters to load are deprecated.  Call .resolve and .require separately.\n",
      "  result = entry_point.load(False)\n",
      "c:\\users\\ani\\gym\\gym\\__init__.py:22: UserWarning: DEPRECATION WARNING: to improve load times, gym no longer automatically loads gym.spaces. Please run \"import gym.spaces\" to load gym.spaces on your own. This warning will turn into an error in a future version of gym.\n",
      "  warnings.warn('DEPRECATION WARNING: to improve load times, gym no longer automatically loads gym.spaces. Please run \"import gym.spaces\" to load gym.spaces on your own. This warning will turn into an error in a future version of gym.')\n"
     ]
    },
    {
     "name": "stdout",
     "output_type": "stream",
     "text": [
      "\u001b[33mWARN: gym.spaces.Box autodetected dtype as <class 'numpy.float32'>. Please provide explicit dtype.\u001b[0m\n",
      "199\n",
      "198\n",
      "198\n"
     ]
    }
   ],
   "source": [
    "#test whether the main DQN is able to keep the pole-cart stable\n",
    "env = gym.make(\"CartPole-v0\")\n",
    "test_episodes = 3\n",
    "test_max_steps = 1000\n",
    "env.reset()\n",
    "for ep in range(test_episodes):\n",
    "    t = 0\n",
    "    while t < test_max_steps:\n",
    "        env.render() \n",
    "\n",
    "        # Get action from Q-network\n",
    "        action_value = main_model.predict(np.expand_dims(state,axis=0))\n",
    "        action = np.argmax(action_value)\n",
    "\n",
    "        # Take action, get new state and reward\n",
    "        next_state, reward, done, _ = env.step(action)\n",
    "\n",
    "        if done:\n",
    "            print(t)\n",
    "            t = test_max_steps\n",
    "            env.reset()\n",
    "            # Take one random step to get the pole and cart moving\n",
    "            state, reward, done, _ = env.step(env.action_space.sample())\n",
    "\n",
    "        else:\n",
    "            state = next_state\n",
    "            t += 1\n",
    "env.close()\n"
   ]
  },
  {
   "cell_type": "code",
   "execution_count": null,
   "metadata": {},
   "outputs": [],
   "source": []
  }
 ],
 "metadata": {
  "kernelspec": {
   "display_name": "Python 3",
   "language": "python",
   "name": "python3"
  },
  "language_info": {
   "codemirror_mode": {
    "name": "ipython",
    "version": 3
   },
   "file_extension": ".py",
   "mimetype": "text/x-python",
   "name": "python",
   "nbconvert_exporter": "python",
   "pygments_lexer": "ipython3",
   "version": "3.6.6"
  }
 },
 "nbformat": 4,
 "nbformat_minor": 2
}
